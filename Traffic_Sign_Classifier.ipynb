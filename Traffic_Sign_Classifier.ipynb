{
 "cells": [
  {
   "cell_type": "markdown",
   "metadata": {},
   "source": [
    "# Self-Driving Car Engineer Nanodegree\n",
    "\n",
    "## Deep Learning\n",
    "\n",
    "## Project: Build a Traffic Sign Recognition Classifier\n",
    "\n",
    "In this notebook, a template is provided for you to implement your functionality in stages, which is required to successfully complete this project. If additional code is required that cannot be included in the notebook, be sure that the Python code is successfully imported and included in your submission if necessary. \n",
    "\n",
    "> **Note**: Once you have completed all of the code implementations, you need to finalize your work by exporting the iPython Notebook as an HTML document. Before exporting the notebook to html, all of the code cells need to have been run so that reviewers can see the final implementation and output. You can then export the notebook by using the menu above and navigating to  \\n\",\n",
    "    \"**File -> Download as -> HTML (.html)**. Include the finished document along with this notebook as your submission. \n",
    "\n",
    "In addition to implementing code, there is a writeup to complete. The writeup should be completed in a separate file, which can be either a markdown file or a pdf document. There is a [write up template](https://github.com/udacity/CarND-Traffic-Sign-Classifier-Project/blob/master/writeup_template.md) that can be used to guide the writing process. Completing the code template and writeup template will cover all of the [rubric points](https://review.udacity.com/#!/rubrics/481/view) for this project.\n",
    "\n",
    "The [rubric](https://review.udacity.com/#!/rubrics/481/view) contains \"Stand Out Suggestions\" for enhancing the project beyond the minimum requirements. The stand out suggestions are optional. If you decide to pursue the \"stand out suggestions\", you can include the code in this Ipython notebook and also discuss the results in the writeup file.\n",
    "\n",
    "\n",
    ">**Note:** Code and Markdown cells can be executed using the **Shift + Enter** keyboard shortcut. In addition, Markdown cells can be edited by typically double-clicking the cell to enter edit mode."
   ]
  },
  {
   "cell_type": "markdown",
   "metadata": {},
   "source": [
    "---\n",
    "## Step 0: Load The Data"
   ]
  },
  {
   "cell_type": "code",
   "execution_count": 1,
   "metadata": {},
   "outputs": [
    {
     "name": "stdout",
     "output_type": "stream",
     "text": [
      "X_train shape: (34799, 32, 32, 3)\n",
      "y_train shape: (34799,)\n",
      "X_valid shape: (4410, 32, 32, 3)\n",
      "y_valid shape: (4410,)\n",
      "X_test shape: (12630, 32, 32, 3)\n",
      "y_test shape: (12630,)\n"
     ]
    }
   ],
   "source": [
    "# Load pickled data\n",
    "import pickle\n",
    "\n",
    "training_file = \"Datafiles/train.p\"\n",
    "validation_file= \"Datafiles/valid.p\"\n",
    "testing_file = \"Datafiles/test.p\"\n",
    "\n",
    "with open(training_file, mode='rb') as f:\n",
    "    train = pickle.load(f)\n",
    "with open(validation_file, mode='rb') as f:\n",
    "    valid = pickle.load(f)\n",
    "with open(testing_file, mode='rb') as f:\n",
    "    test = pickle.load(f)\n",
    "    \n",
    "X_train, y_train = train['features'], train['labels']\n",
    "X_valid, y_valid = valid['features'], valid['labels']\n",
    "X_test, y_test = test['features'], test['labels']\n",
    "\n",
    "print(\"X_train shape:\", X_train.shape)\n",
    "print(\"y_train shape:\", y_train.shape)\n",
    "print(\"X_valid shape:\", X_valid.shape)\n",
    "print(\"y_valid shape:\", y_valid.shape)\n",
    "print(\"X_test shape:\", X_test.shape)\n",
    "print(\"y_test shape:\", y_test.shape)\n"
   ]
  },
  {
   "cell_type": "markdown",
   "metadata": {},
   "source": [
    "### Loading the CSV file containg traffic signals and corressponing labels"
   ]
  },
  {
   "cell_type": "code",
   "execution_count": 2,
   "metadata": {},
   "outputs": [],
   "source": [
    "import csv\n",
    "import pprint\n",
    "reader = csv.DictReader(open(\"signnames.csv\", \"rt\"))\n",
    "traffic_signal_dic = {}\n",
    "for line in reader:\n",
    "    traffic_signal_dic[line['ClassId']] = line['SignName']"
   ]
  },
  {
   "cell_type": "markdown",
   "metadata": {},
   "source": [
    "---\n",
    "\n",
    "## Step 1: Dataset Summary & Exploration\n",
    "\n",
    "The pickled data is a dictionary with 4 key/value pairs:\n",
    "\n",
    "- `'features'` is a 4D array containing raw pixel data of the traffic sign images, (num examples, width, height, channels).\n",
    "- `'labels'` is a 1D array containing the label/class id of the traffic sign. The file `signnames.csv` contains id -> name mappings for each id.\n",
    "- `'sizes'` is a list containing tuples, (width, height) representing the original width and height the image.\n",
    "- `'coords'` is a list containing tuples, (x1, y1, x2, y2) representing coordinates of a bounding box around the sign in the image. **THESE COORDINATES ASSUME THE ORIGINAL IMAGE. THE PICKLED DATA CONTAINS RESIZED VERSIONS (32 by 32) OF THESE IMAGES**\n",
    "\n",
    "Complete the basic data summary below. Use python, numpy and/or pandas methods to calculate the data summary rather than hard coding the results. For example, the [pandas shape method](http://pandas.pydata.org/pandas-docs/stable/generated/pandas.DataFrame.shape.html) might be useful for calculating some of the summary results. "
   ]
  },
  {
   "cell_type": "markdown",
   "metadata": {},
   "source": [
    "### Provide a Basic Summary of the Data Set Using Python, Numpy and/or Pandas"
   ]
  },
  {
   "cell_type": "code",
   "execution_count": 3,
   "metadata": {},
   "outputs": [
    {
     "name": "stdout",
     "output_type": "stream",
     "text": [
      "Number of training examples = 34799\n",
      "Number of validation examples = 4410\n",
      "Number of testing examples = 12630\n",
      "Image data shape = (32, 32, 3)\n",
      "Number of classes = 43\n"
     ]
    }
   ],
   "source": [
    "import numpy as np\n",
    "\n",
    "#Number of training examples\n",
    "n_train = len(X_train)\n",
    "\n",
    "#Number of validation examples\n",
    "n_validation = len(X_valid)\n",
    "\n",
    "#Number of testing examples.\n",
    "n_test = len(X_test)\n",
    "\n",
    "#Shape of an traffic sign image\n",
    "image_shape = X_valid[0].shape\n",
    "\n",
    "#Unique classes/labels in the dataset.\n",
    "n_classes = len(np.unique(y_valid))\n",
    "\n",
    "print(\"Number of training examples =\", n_train)\n",
    "print(\"Number of validation examples =\", n_validation)\n",
    "print(\"Number of testing examples =\", n_test)\n",
    "print(\"Image data shape =\", image_shape)\n",
    "print(\"Number of classes =\", n_classes)"
   ]
  },
  {
   "cell_type": "markdown",
   "metadata": {},
   "source": [
    "### Include an exploratory visualization of the dataset"
   ]
  },
  {
   "cell_type": "markdown",
   "metadata": {},
   "source": [
    "Visualize the German Traffic Signs Dataset using the pickled file(s). This is open ended, suggestions include: plotting traffic sign images, plotting the count of each sign, etc. \n",
    "\n",
    "The [Matplotlib](http://matplotlib.org/) [examples](http://matplotlib.org/examples/index.html) and [gallery](http://matplotlib.org/gallery.html) pages are a great resource for doing visualizations in Python.\n",
    "\n",
    "**NOTE:** It's recommended you start with something simple first. If you wish to do more, come back to it after you've completed the rest of the sections. It can be interesting to look at the distribution of classes in the training, validation and test set. Is the distribution the same? Are there more examples of some classes than others?"
   ]
  },
  {
   "cell_type": "code",
   "execution_count": 4,
   "metadata": {},
   "outputs": [
    {
     "data": {
      "image/png": "[encoded data removed]",
      "text/plain": [
       "<matplotlib.figure.Figure at 0x2091626efd0>"
      ]
     },
     "metadata": {},
     "output_type": "display_data"
    }
   ],
   "source": [
    "### Data exploration visualization code goes here.\n",
    "import matplotlib.pyplot as plt\n",
    "import random\n",
    "\n",
    "# Visualizations will be shown in the notebook.\n",
    "%matplotlib inline\n",
    "\n",
    "traffic_sign_images0 = []\n",
    "\n",
    "index = random.randint(0,len(X_train))\n",
    "image_dis = X_train[index]\n",
    "traffic_sign_images0.append(image_dis)\n",
    "index = random.randint(0,len(X_valid))\n",
    "image_dis = X_valid[index]\n",
    "traffic_sign_images0.append(image_dis)\n",
    "index = random.randint(0,len(X_test))\n",
    "image_dis = X_test[index]\n",
    "traffic_sign_images0.append(image_dis)\n",
    "\n",
    "fig, axs = plt.subplots(1,3, figsize=(5, 2))\n",
    "for i in range(3):\n",
    "    axs = axs.ravel()\n",
    "    axs[i].axis('off')\n",
    "    axs[i].imshow(traffic_sign_images0[i])"
   ]
  },
  {
   "cell_type": "code",
   "execution_count": 5,
   "metadata": {},
   "outputs": [
    {
     "data": {
      "image/png": "[encoded data removed]",
      "text/plain": [
       "<matplotlib.figure.Figure at 0x2090d9aaa20>"
      ]
     },
     "metadata": {},
     "output_type": "display_data"
    }
   ],
   "source": [
    "# Exploratory visualization of dataset.\n",
    "import numpy as np\n",
    "hist, bin_edges = np.histogram(y_train, bins=n_classes)\n",
    "width = (bin_edges[1] - bin_edges[0])*0.6\n",
    "center = (bin_edges[1:]+bin_edges[:-1]) / 2\n",
    "plt.bar(center, hist, align='center', width=width)\n",
    "plt.show()"
   ]
  },
  {
   "cell_type": "markdown",
   "metadata": {},
   "source": [
    "----\n",
    "\n",
    "## Step 2: Design and Test a Model Architecture\n",
    "\n",
    "Design and implement a deep learning model that learns to recognize traffic signs. Train and test your model on the [German Traffic Sign Dataset](http://benchmark.ini.rub.de/?section=gtsrb&subsection=dataset).\n",
    "\n",
    "The LeNet-5 implementation shown in the [classroom](https://classroom.udacity.com/nanodegrees/nd013/parts/fbf77062-5703-404e-b60c-95b78b2f3f9e/modules/6df7ae49-c61c-4bb2-a23e-6527e69209ec/lessons/601ae704-1035-4287-8b11-e2c2716217ad/concepts/d4aca031-508f-4e0b-b493-e7b706120f81) at the end of the CNN lesson is a solid starting point. You'll have to change the number of classes and possibly the preprocessing, but aside from that it's plug and play! \n",
    "\n",
    "With the LeNet-5 solution from the lecture, you should expect a validation set accuracy of about 0.89. To meet specifications, the validation set accuracy will need to be at least 0.93. It is possible to get an even higher accuracy, but 0.93 is the minimum for a successful project submission. \n",
    "\n",
    "There are various aspects to consider when thinking about this problem:\n",
    "\n",
    "- Neural network architecture (is the network over or underfitting?)\n",
    "- Play around preprocessing techniques (normalization, rgb to grayscale, etc)\n",
    "- Number of examples per label (some have more than others).\n",
    "- Generate fake data.\n",
    "\n",
    "Here is an example of a [published baseline model on this problem](http://yann.lecun.com/exdb/publis/pdf/sermanet-ijcnn-11.pdf). It's not required to be familiar with the approach used in the paper but, it's good practice to try to read papers like these."
   ]
  },
  {
   "cell_type": "markdown",
   "metadata": {},
   "source": [
    "### Pre-process the Data Set (normalization, grayscale, etc.)"
   ]
  },
  {
   "cell_type": "markdown",
   "metadata": {},
   "source": [
    "Minimally, the image data should be normalized so that the data has mean zero and equal variance. For image data, `(pixel - 128)/ 128` is a quick way to approximately normalize the data and can be used in this project. \n",
    "\n",
    "Other pre-processing steps are optional. You can try different techniques to see if it improves performance. \n",
    "\n",
    "Use the code cell (or multiple code cells, if necessary) to implement the first step of your project."
   ]
  },
  {
   "cell_type": "markdown",
   "metadata": {},
   "source": [
    "##### Q/A  - What are the preprocessing techniques and what are the reason for choosing them?\n",
    "\n",
    "###### Converting to gray scale\n",
    "\n",
    "Mechanism used - To convert an image in gray scale, I have take mean of pixel values of all the 3 color channels (RGB), this is a very simple way of converting a color image to grayscale. Other advance techniques are also available. \n",
    "\n",
    "Reason - This will help in data reduction and will increase the speed of the computation. \n",
    "\n",
    "###### Normalizing the data with range [-1,1]\n",
    "\n",
    "Mechanism sued - To normalize the pixels value of grayscale image, I have used the formula - (pixel_value - 128)/128.\n",
    "\n",
    "Reason -During training of the network, we will by multiplying these pixels value to weights and then add biases. I would be better if the result of each calculation within a similar range and our gradient descent it smooth."
   ]
  },
  {
   "cell_type": "code",
   "execution_count": 6,
   "metadata": {},
   "outputs": [],
   "source": [
    "import cv2\n",
    "#Pre-processign of dataset\n",
    "# Convert to grayscale\n",
    "X_train_grayscale = np.sum(X_train/3, axis=3, keepdims=True)\n",
    "X_valid_grayscale = np.sum(X_valid/3, axis=3, keepdims=True)\n",
    "X_test_grayscale = np.sum(X_test/3, axis=3, keepdims=True)\n",
    "\n",
    "# Normalize the data\n",
    "X_train_normalized = (X_train_grayscale-128)/128\n",
    "X_valid_normalized = (X_valid_grayscale-128)/128\n",
    "X_test_normalized = (X_test_grayscale-128)/128"
   ]
  },
  {
   "cell_type": "code",
   "execution_count": 7,
   "metadata": {},
   "outputs": [],
   "source": [
    "##Shuffling the training dataset. Other datasets need not to be shuffled.\n",
    "from sklearn.utils import shuffle\n",
    "X_train_data, y_train_data = shuffle(X_train_normalized, y_train)"
   ]
  },
  {
   "cell_type": "markdown",
   "metadata": {},
   "source": [
    "### Model Architecture"
   ]
  },
  {
   "cell_type": "markdown",
   "metadata": {},
   "source": [
    "I have implemented the LeNet-5 Architecture to develop the classification function. \n",
    "The model of LeNet-5 is given described below"
   ]
  },
  {
   "cell_type": "markdown",
   "metadata": {},
   "source": [
    "![LeNet-5](LeNet-5.png)"
   ]
  },
  {
   "cell_type": "markdown",
   "metadata": {},
   "source": [
    "The model consists of 2 Convulation layer and 3 fully connected layer. Output of each convolution layer is passed to max pooling fucntion. The final output of last fully connected layer has dimention (43,). It represent the logits."
   ]
  },
  {
   "cell_type": "code",
   "execution_count": 8,
   "metadata": {},
   "outputs": [],
   "source": [
    "#Architecture\n",
    "def classifier(x):\n",
    "    #Value of mu (mean) and sigma (standard deviation) to be used in normal distribution. (HP)\n",
    "    mu = 0\n",
    "    sigma = 0.1\n",
    "    weights = {\n",
    "        'wc1' : tf.Variable(tf.truncated_normal(shape = (5,5,1,6),mean = mu, stddev = sigma)),\n",
    "        'wc2' : tf.Variable(tf.truncated_normal(shape = (5,5,6,16),mean = mu, stddev = sigma)),\n",
    "        'wd1' : tf.Variable(tf.truncated_normal(shape = (400,120),mean = mu, stddev = sigma)),\n",
    "        'wd2' : tf.Variable(tf.truncated_normal(shape = (120,84),mean = mu, stddev = sigma)),\n",
    "        'wd3' : tf.Variable(tf.truncated_normal(shape = (84,43),mean = mu, stddev = sigma))\n",
    "    }\n",
    "    bias = {\n",
    "        'bc1' : tf.Variable(tf.zeros([6])),\n",
    "        'bc2' : tf.Variable(tf.zeros([16])),\n",
    "        'bd1' : tf.Variable(tf.zeros([120])),\n",
    "        'bd2' : tf.Variable(tf.zeros([84])),\n",
    "        'bd3' : tf.Variable(tf.zeros([43]))\n",
    "    }\n",
    "    \n",
    "    #CNN-1 - Input 32x32. Output 28x28x6\n",
    "    c1 = tf.nn.conv2d(x,weights['wc1'],strides=[1,1,1,1],padding='VALID')\n",
    "    c1 = tf.nn.bias_add(c1,bias['bc1'])\n",
    "    #CNN-1 - Activation\n",
    "    c1 = tf.nn.relu(c1)\n",
    "    #CNN-1 - Pooling. Input - 28x28x6. Output - 14x14x6\n",
    "    c1 = tf.nn.max_pool(c1,ksize=[1,2,2,1],strides=[1,2,2,1],padding='VALID')\n",
    "    \n",
    "    #CNN-2 - Input 14x14x6. Output 10x10x16\n",
    "    c2 = tf.nn.conv2d(c1,weights['wc2'],strides=[1,1,1,1],padding='VALID')\n",
    "    c2 = tf.nn.bias_add(c2,bias['bc2'])\n",
    "    #CNN-2 - Activation\n",
    "    c2 = tf.nn.relu(c2)\n",
    "    #CNN-2 - Pooling. Input 10x10x16 . Output 5x5x16\n",
    "    c2 = tf.nn.max_pool(c2,ksize=[1,2,2,1],strides=[1,2,2,1],padding='VALID')\n",
    "    \n",
    "    #Flatten - Input 5x5x16. Output - 400\n",
    "    f1 = flatten(c2)\n",
    "    \n",
    "    #FCL1 - Input 400. Ouput 120\n",
    "    d1 = tf.add(tf.matmul(f1,weights['wd1']),bias['bd1'])\n",
    "    d1 = tf.nn.relu(d1)\n",
    "    d1 = tf.nn.dropout(d1,keep_prob)\n",
    "    \n",
    "    #FCL2 - Input 120. Ouput 84\n",
    "    d2 = tf.add(tf.matmul(d1,weights['wd2']),bias['bd2'])\n",
    "    d2 = tf.nn.relu(d2)\n",
    "    d2 = tf.nn.dropout(d2,keep_prob)\n",
    "    \n",
    "    #FCL3 - Input 84. Ouput 43\n",
    "    logits = tf.add(tf.matmul(d2,weights['wd3']),bias['bd3'])\n",
    "    \n",
    "    return logits\n"
   ]
  },
  {
   "cell_type": "markdown",
   "metadata": {},
   "source": [
    "### Train, Validate and Test the Model"
   ]
  },
  {
   "cell_type": "markdown",
   "metadata": {},
   "source": [
    "A validation set can be used to assess how well the model is performing. A low accuracy on the training and validation\n",
    "sets imply underfitting. A high accuracy on the training set but low accuracy on the validation set implies overfitting."
   ]
  },
  {
   "cell_type": "code",
   "execution_count": 9,
   "metadata": {},
   "outputs": [],
   "source": [
    "import tensorflow as tf\n",
    "x = tf.placeholder(tf.float32,(None,32,32,1))\n",
    "y = tf.placeholder(tf.int32,(None))\n",
    "one_hot_y = tf.one_hot(y,43)\n",
    "keep_prob = tf.placeholder(tf.float32)"
   ]
  },
  {
   "cell_type": "markdown",
   "metadata": {},
   "source": [
    "##### Model Training\n",
    "In this pipeline, the model is trained for the training data set. The learning rate is set to 0.009. I started with learning rate of 0.001 but later found that this lower learning rate is giving better accuracy. The optimizer I used is AdamOptimizer. This optimizer function is very fast and good as it takes care of many functions like decaying learning rate as model matures internally. The batch size is taken to be 128 as I am running it mostly on my local machine and larger batch size will slow down the processing. I found I was able to reach an accuracy of 96% by 35 EPOCHS most which accuracy remains same, this is case of saturation and from here further epochs will only add to computation time and no improvement. Although accuracy of 96 is reached by 29 EPOCHS only, I kept it 35 for assurance. I have kept values of keep rate which is used during dropout as 0.6, during tuning I found that this is giving satisfactory results."
   ]
  },
  {
   "cell_type": "code",
   "execution_count": 10,
   "metadata": {},
   "outputs": [
    {
     "name": "stdout",
     "output_type": "stream",
     "text": [
      "Training...\n",
      "\n",
      "EPOCH 1 ... \n",
      "Validation accuracy = 0.598\n",
      "Validation Loss = 1.408\n",
      "\n",
      "EPOCH 2 ... \n",
      "Validation accuracy = 0.790\n",
      "Validation Loss = 0.697\n",
      "\n",
      "EPOCH 3 ... \n",
      "Validation accuracy = 0.859\n",
      "Validation Loss = 0.485\n",
      "\n",
      "EPOCH 4 ... \n",
      "Validation accuracy = 0.886\n",
      "Validation Loss = 0.404\n",
      "\n",
      "EPOCH 5 ... \n",
      "Validation accuracy = 0.893\n",
      "Validation Loss = 0.382\n",
      "\n",
      "EPOCH 6 ... \n",
      "Validation accuracy = 0.907\n",
      "Validation Loss = 0.335\n",
      "\n",
      "EPOCH 7 ... \n",
      "Validation accuracy = 0.915\n",
      "Validation Loss = 0.292\n",
      "\n",
      "EPOCH 8 ... \n",
      "Validation accuracy = 0.922\n",
      "Validation Loss = 0.267\n",
      "\n",
      "EPOCH 9 ... \n",
      "Validation accuracy = 0.935\n",
      "Validation Loss = 0.254\n",
      "\n",
      "EPOCH 10 ... \n",
      "Validation accuracy = 0.932\n",
      "Validation Loss = 0.234\n",
      "\n",
      "EPOCH 11 ... \n",
      "Validation accuracy = 0.934\n",
      "Validation Loss = 0.246\n",
      "\n",
      "EPOCH 12 ... \n",
      "Validation accuracy = 0.930\n",
      "Validation Loss = 0.241\n",
      "\n",
      "EPOCH 13 ... \n",
      "Validation accuracy = 0.938\n",
      "Validation Loss = 0.218\n",
      "\n",
      "EPOCH 14 ... \n",
      "Validation accuracy = 0.941\n",
      "Validation Loss = 0.213\n",
      "\n",
      "EPOCH 15 ... \n",
      "Validation accuracy = 0.939\n",
      "Validation Loss = 0.205\n",
      "\n",
      "EPOCH 16 ... \n",
      "Validation accuracy = 0.945\n",
      "Validation Loss = 0.187\n",
      "\n",
      "EPOCH 17 ... \n",
      "Validation accuracy = 0.943\n",
      "Validation Loss = 0.200\n",
      "\n",
      "EPOCH 18 ... \n",
      "Validation accuracy = 0.944\n",
      "Validation Loss = 0.191\n",
      "\n",
      "EPOCH 19 ... \n",
      "Validation accuracy = 0.938\n",
      "Validation Loss = 0.208\n",
      "\n",
      "EPOCH 20 ... \n",
      "Validation accuracy = 0.955\n",
      "Validation Loss = 0.168\n",
      "\n",
      "EPOCH 21 ... \n",
      "Validation accuracy = 0.955\n",
      "Validation Loss = 0.165\n",
      "\n",
      "EPOCH 22 ... \n",
      "Validation accuracy = 0.948\n",
      "Validation Loss = 0.179\n",
      "\n",
      "EPOCH 23 ... \n",
      "Validation accuracy = 0.952\n",
      "Validation Loss = 0.189\n",
      "\n",
      "EPOCH 24 ... \n",
      "Validation accuracy = 0.959\n",
      "Validation Loss = 0.157\n",
      "\n",
      "EPOCH 25 ... \n",
      "Validation accuracy = 0.954\n",
      "Validation Loss = 0.174\n",
      "\n",
      "EPOCH 26 ... \n",
      "Validation accuracy = 0.952\n",
      "Validation Loss = 0.187\n",
      "\n",
      "EPOCH 27 ... \n",
      "Validation accuracy = 0.954\n",
      "Validation Loss = 0.170\n",
      "\n",
      "EPOCH 28 ... \n",
      "Validation accuracy = 0.956\n",
      "Validation Loss = 0.166\n",
      "\n",
      "EPOCH 29 ... \n",
      "Validation accuracy = 0.961\n",
      "Validation Loss = 0.152\n",
      "\n",
      "EPOCH 30 ... \n",
      "Validation accuracy = 0.952\n",
      "Validation Loss = 0.188\n",
      "\n",
      "EPOCH 31 ... \n",
      "Validation accuracy = 0.951\n",
      "Validation Loss = 0.181\n",
      "\n",
      "EPOCH 32 ... \n",
      "Validation accuracy = 0.962\n",
      "Validation Loss = 0.156\n",
      "\n",
      "EPOCH 33 ... \n",
      "Validation accuracy = 0.951\n",
      "Validation Loss = 0.205\n",
      "\n",
      "EPOCH 34 ... \n",
      "Validation accuracy = 0.962\n",
      "Validation Loss = 0.174\n",
      "\n",
      "EPOCH 35 ... \n",
      "Validation accuracy = 0.961\n",
      "Validation Loss = 0.174\n",
      "\n",
      "Model saved\n"
     ]
    }
   ],
   "source": [
    "from tensorflow.contrib.layers import flatten\n",
    "from sklearn.utils import shuffle\n",
    "\n",
    "EPOCHS = 35\n",
    "BATCH_SIZE = 128\n",
    "\n",
    "rate = 0.0009\n",
    "logits = classifier(x)\n",
    "cross_entropy = tf.nn.softmax_cross_entropy_with_logits(labels = one_hot_y,logits = logits)\n",
    "loss_operation = tf.reduce_mean(cross_entropy)\n",
    "optimizer = tf.train.AdamOptimizer(learning_rate = rate)\n",
    "training_operation = optimizer.minimize(loss_operation)\n",
    "\n",
    "#Model evaluation\n",
    "correct_prediction = tf.equal(tf.argmax(logits,1),tf.argmax(one_hot_y,1))\n",
    "accuracy_operation = tf.reduce_mean(tf.cast(correct_prediction,tf.float32))\n",
    "saver = tf.train.Saver()\n",
    "\n",
    "#Accuracy and loss calculation\n",
    "def evaluate(X_data,y_data):\n",
    "    num_examples = len(X_data)\n",
    "    total_accuracy = 0\n",
    "    total_loss = 0\n",
    "    keep_prob_eval = 1.0\n",
    "    sess = tf.get_default_session()\n",
    "    for offset in range(0,num_examples,BATCH_SIZE):\n",
    "        end = offset+BATCH_SIZE\n",
    "        batch_x,batch_y = X_data[offset:end],y_data[offset:end]\n",
    "        accuracy,loss = sess.run([accuracy_operation,loss_operation],feed_dict={x:batch_x,y:batch_y,keep_prob:keep_prob_eval})\n",
    "        total_accuracy += (accuracy*len(batch_x))\n",
    "        total_loss += (loss*len(batch_x))\n",
    "    return (total_accuracy / num_examples, total_loss / num_examples)\n",
    "\n",
    "#Training the model\n",
    "with tf.Session() as sess:\n",
    "    sess.run(tf.global_variables_initializer())\n",
    "    num_examples = len(X_train_data)\n",
    "    keep_prob_tr = 0.6\n",
    "    print(\"Training...\")\n",
    "    print()\n",
    "    for i in range(EPOCHS):\n",
    "        for offset in range(0,num_examples,BATCH_SIZE):\n",
    "                end = offset+BATCH_SIZE\n",
    "                batch_x,batch_y = X_train_data[offset:end],y_train_data[offset:end]\n",
    "                sess.run(training_operation,feed_dict={x:batch_x,y:batch_y,keep_prob:keep_prob_tr})\n",
    "        validation_accuracy,validation_loss = evaluate(X_valid_normalized,y_valid)\n",
    "        print(\"EPOCH {} ... \".format(i+1))\n",
    "        print(\"Validation accuracy = {:.3f}\".format(validation_accuracy))\n",
    "        print(\"Validation Loss = {:.3f}\".format(validation_loss))\n",
    "        print()\n",
    "        \n",
    "    saver.save(sess,'./p2-self-2')\n",
    "    print(\"Model saved\")"
   ]
  },
  {
   "cell_type": "code",
   "execution_count": 13,
   "metadata": {},
   "outputs": [
    {
     "name": "stdout",
     "output_type": "stream",
     "text": [
      "Test accuracy = 0.935\n",
      "Test loss = 0.386\n"
     ]
    }
   ],
   "source": [
    "#Testing the model on test data set\n",
    "with tf.Session() as sess:\n",
    "    saver.restore(sess,tf.train.latest_checkpoint('.'))\n",
    "    test_accuracy,test_loss = evaluate(X_test_normalized,y_test)\n",
    "    print(\"Test accuracy = {:.3f}\".format(test_accuracy))\n",
    "    print(\"Test loss = {:.3f}\".format(test_loss))"
   ]
  },
  {
   "cell_type": "markdown",
   "metadata": {},
   "source": [
    "---\n",
    "\n",
    "## Step 3: Test a Model on New Images\n",
    "\n",
    "To give yourself more insight into how your model is working, download at least five pictures of German traffic signs from the web and use your model to predict the traffic sign type.\n",
    "\n",
    "You may find `signnames.csv` useful as it contains mappings from the class id (integer) to the actual sign name."
   ]
  },
  {
   "cell_type": "markdown",
   "metadata": {},
   "source": [
    "### Load and Output the Images"
   ]
  },
  {
   "cell_type": "code",
   "execution_count": 14,
   "metadata": {},
   "outputs": [
    {
     "data": {
      "image/png": "[encoded data removed]",
      "text/plain": [
       "<matplotlib.figure.Figure at 0x2092c151f28>"
      ]
     },
     "metadata": {},
     "output_type": "display_data"
    }
   ],
   "source": [
    "### Load the images and plot them here.\n",
    "### Feel free to use as many code cells as needed.\n",
    "import matplotlib.pyplot as plt\n",
    "import matplotlib.image as mpimg\n",
    "import numpy as np\n",
    "import cv2\n",
    "%matplotlib inline\n",
    "\n",
    "traffic_sign_images = []\n",
    "traffic_sign_label = []\n",
    "\n",
    "Speed_limit_60kmh_3 = mpimg.imread('Image_files/Speed_limit_60kmh_3.jpeg')\n",
    "#Speed_limit_60kmh_3 = cv2.cvtColor(Speed_limit_60kmh_3,cv2.COLOR_BGR2RGB)\n",
    "Speed_limit_70kmh_4 = mpimg.imread('Image_files/Speed_limit_70kmh_4.jpeg')\n",
    "#Speed_limit_70kmh_4 = cv2.cvtColor(Speed_limit_70kmh_4,cv2.COLOR_BGR2RGB)\n",
    "Stop_14 = mpimg.imread('Image_files/Stop_14.jpeg')\n",
    "#Stop_14 = cv2.cvtColor(Stop_14,cv2.COLOR_BGR2RGB)\n",
    "No_entry_17 = mpimg.imread('Image_files/No_entry_17.jpeg')\n",
    "#No_entry_17 = cv2.cvtColor(No_entry_17,cv2.COLOR_BGR2RGB)\n",
    "Children_crossing_28 = mpimg.imread('Image_files/Children_crossing_28.jpeg')\n",
    "#Children_crossing_28 = cv2.cvtColor(Children_crossing_28,cv2.COLOR_BGR2RGB)\n",
    "\n",
    "traffic_sign_images.append(Speed_limit_60kmh_3)\n",
    "traffic_sign_label.append(3)\n",
    "traffic_sign_images.append(Speed_limit_70kmh_4)\n",
    "traffic_sign_label.append(4)\n",
    "traffic_sign_images.append(Stop_14)\n",
    "traffic_sign_label.append(14)\n",
    "traffic_sign_images.append(No_entry_17)\n",
    "traffic_sign_label.append(17)\n",
    "traffic_sign_images.append(Children_crossing_28)\n",
    "traffic_sign_label.append(28)\n",
    "\n",
    "\n",
    "fig, axs = plt.subplots(1,5, figsize=(5, 2))\n",
    "for i in range(5):\n",
    "    axs = axs.ravel()\n",
    "    axs[i].axis('off')\n",
    "    axs[i].imshow(traffic_sign_images[i])"
   ]
  },
  {
   "cell_type": "markdown",
   "metadata": {},
   "source": [
    "##### Discussion regarding image\n",
    "The images I used are a mixture of photographic image and standard computer created images. The images are brigter than those which are used during training. 1 images contains green color grass boader. As there is very little non-signal portion in each image, this should be helpful but this also depends on training data set. The high brigtness on pixels would create difficulty in analysis.\n",
    "\n"
   ]
  },
  {
   "cell_type": "markdown",
   "metadata": {},
   "source": [
    "### Predict the Sign Type for Each Image"
   ]
  },
  {
   "cell_type": "code",
   "execution_count": 18,
   "metadata": {},
   "outputs": [
    {
     "name": "stdout",
     "output_type": "stream",
     "text": [
      "Image 1 - Speed limit (30km/h)\n",
      "Image 2 - Speed limit (30km/h)\n",
      "Image 3 - Stop\n",
      "Image 4 - No entry\n",
      "Image 5 - Children crossing\n"
     ]
    }
   ],
   "source": [
    "#Using model to predict the new images. \n",
    "X_self_test = np.asarray(traffic_sign_images)\n",
    "y_self_test = np.asarray(traffic_sign_label)\n",
    "X_self_test_grayscale = np.sum(X_self_test/3, axis=3, keepdims=True)\n",
    "X_self_test_normalized = (X_self_test_grayscale-128)/128\n",
    "\n",
    "predicted_labels_op = tf.argmax(logits,1)\n",
    "top_k_prob_op = tf.nn.top_k(tf.nn.softmax(logits),5)\n",
    "\n",
    "#This routine will calculate accuracy,loss,predicted labels and top k probability of softmax.\n",
    "def evaluate_2(X_data,y_data):\n",
    "    num_examples = len(X_data)\n",
    "    total_accuracy = 0\n",
    "    total_loss = 0\n",
    "    keep_prob_eval = 1.0\n",
    "    sess = tf.get_default_session()\n",
    "    for offset in range(0,num_examples,BATCH_SIZE):\n",
    "        end = offset+BATCH_SIZE\n",
    "        batch_x,batch_y = X_data[offset:end],y_data[offset:end]\n",
    "        accuracy,loss,predicted_labels,top_k_prob = sess.run([accuracy_operation,loss_operation,predicted_labels_op,top_k_prob_op],feed_dict={x:batch_x,y:batch_y,keep_prob:keep_prob_eval})\n",
    "        total_accuracy += (accuracy*len(batch_x))\n",
    "        total_loss += (loss*len(batch_x))\n",
    "    return (total_accuracy / num_examples, total_loss / num_examples,predicted_labels,top_k_prob)\n",
    "\n",
    "with tf.Session() as sess:\n",
    "    saver.restore(sess,tf.train.latest_checkpoint('.'))\n",
    "    self_test_accuracy,self_test_loss,self_predicted_labels,self_top_k_prob = evaluate_2(X_self_test_normalized,y_self_test)\n",
    "\n",
    "for i in range(len(self_predicted_labels)):\n",
    "    predicted_sign = str(self_predicted_labels[i])\n",
    "    print(\"Image\",i+1,\"-\",traffic_signal_dic[predicted_sign])    \n",
    "    "
   ]
  },
  {
   "cell_type": "markdown",
   "metadata": {},
   "source": [
    "### Analyze Performance"
   ]
  },
  {
   "cell_type": "code",
   "execution_count": 19,
   "metadata": {},
   "outputs": [
    {
     "name": "stdout",
     "output_type": "stream",
     "text": [
      "Self Test accuracy = 0.600\n",
      "Incorrect classification . Actual -  Speed limit (60km/h) . Predicted -  Speed limit (30km/h)\n",
      "Incorrect classification . Actual -  Speed limit (70km/h) . Predicted -  Speed limit (30km/h)\n",
      "Correct classification   . Actual -  Stop . Predicted -  Stop\n",
      "Correct classification   . Actual -  No entry . Predicted -  No entry\n",
      "Correct classification   . Actual -  Children crossing . Predicted -  Children crossing\n"
     ]
    }
   ],
   "source": [
    "### Calculate the accuracy for these 5 new images. \n",
    "### For example, if the model predicted 1 out of 5 signs correctly, it's 20% accurate on these new images.\n",
    "print(\"Self Test accuracy = {:.3f}\".format(self_test_accuracy))\n",
    "\n",
    "for i in range(len(y_self_test)):\n",
    "    actual_sign = str(y_self_test[i])\n",
    "    predicted_sign = str(self_predicted_labels[i])\n",
    "    if(actual_sign == predicted_sign):\n",
    "        print(\"Correct classification   \",end='')\n",
    "    else:\n",
    "        print(\"Incorrect classification \",end='')\n",
    "    print(\". Actual - \",traffic_signal_dic[actual_sign],\". Predicted - \",traffic_signal_dic[predicted_sign])"
   ]
  },
  {
   "cell_type": "markdown",
   "metadata": {},
   "source": [
    "##### Performance on new image\n",
    "The accuracy of the images I have taken from web is only 60 percent. This is lower than that of test data which is more than 93%. It can be multiple reason for this. One which think is different mean value of the dataset. The mean of pixels value of training set is arround -0.35 but it is 0.15 for these 5 images."
   ]
  },
  {
   "cell_type": "code",
   "execution_count": 20,
   "metadata": {},
   "outputs": [
    {
     "name": "stdout",
     "output_type": "stream",
     "text": [
      "Training data mean\t-0.35408133564846583\n",
      "Validation data mean\t-0.3472154111278294\n",
      "Testing data mean \t-0.3582151534281105\n",
      "Downloaded data mean\t0.15458272298177084\n"
     ]
    }
   ],
   "source": [
    "#Mean values of different data set\n",
    "print(\"Training data mean\",end=\"\\t\")\n",
    "print(np.mean(X_train_normalized))\n",
    "print(\"Validation data mean\",end=\"\\t\")\n",
    "print(np.mean(X_valid_normalized))\n",
    "print(\"Testing data mean \",end=\"\\t\")\n",
    "print(np.mean(X_test_normalized))\n",
    "print(\"Downloaded data mean\",end=\"\\t\")\n",
    "print(np.mean(X_self_test_normalized))"
   ]
  },
  {
   "cell_type": "markdown",
   "metadata": {},
   "source": [
    "### Output Top 5 Softmax Probabilities For Each Image Found on the Web"
   ]
  },
  {
   "cell_type": "markdown",
   "metadata": {},
   "source": [
    "For each of the new images, print out the model's softmax probabilities to show the **certainty** of the model's predictions (limit the output to the top 5 probabilities for each image). [`tf.nn.top_k`](https://www.tensorflow.org/versions/r0.12/api_docs/python/nn.html#top_k) could prove helpful here. \n",
    "\n",
    "The example below demonstrates how tf.nn.top_k can be used to find the top k predictions for each image.\n",
    "\n",
    "`tf.nn.top_k` will return the values and indices (class ids) of the top k predictions. So if k=3, for each sign, it'll return the 3 largest probabilities (out of a possible 43) and the correspoding class ids.\n",
    "\n",
    "Take this numpy array as an example. The values in the array represent predictions. The array contains softmax probabilities for five candidate images with six possible classes. `tf.nn.top_k` is used to choose the three classes with the highest probability:\n",
    "\n",
    "```\n",
    "# (5, 6) array\n",
    "a = np.array([[ 0.24879643,  0.07032244,  0.12641572,  0.34763842,  0.07893497,\n",
    "         0.12789202],\n",
    "       [ 0.28086119,  0.27569815,  0.08594638,  0.0178669 ,  0.18063401,\n",
    "         0.15899337],\n",
    "       [ 0.26076848,  0.23664738,  0.08020603,  0.07001922,  0.1134371 ,\n",
    "         0.23892179],\n",
    "       [ 0.11943333,  0.29198961,  0.02605103,  0.26234032,  0.1351348 ,\n",
    "         0.16505091],\n",
    "       [ 0.09561176,  0.34396535,  0.0643941 ,  0.16240774,  0.24206137,\n",
    "         0.09155967]])\n",
    "```\n",
    "\n",
    "Running it through `sess.run(tf.nn.top_k(tf.constant(a), k=3))` produces:\n",
    "\n",
    "```\n",
    "TopKV2(values=array([[ 0.34763842,  0.24879643,  0.12789202],\n",
    "       [ 0.28086119,  0.27569815,  0.18063401],\n",
    "       [ 0.26076848,  0.23892179,  0.23664738],\n",
    "       [ 0.29198961,  0.26234032,  0.16505091],\n",
    "       [ 0.34396535,  0.24206137,  0.16240774]]), indices=array([[3, 0, 5],\n",
    "       [0, 1, 4],\n",
    "       [0, 5, 1],\n",
    "       [1, 3, 5],\n",
    "       [1, 4, 3]], dtype=int32))\n",
    "```\n",
    "\n",
    "Looking just at the first row we get `[ 0.34763842,  0.24879643,  0.12789202]`, you can confirm these are the 3 largest probabilities in `a`. You'll also notice `[3, 0, 5]` are the corresponding indices."
   ]
  },
  {
   "cell_type": "code",
   "execution_count": 21,
   "metadata": {},
   "outputs": [
    {
     "name": "stdout",
     "output_type": "stream",
     "text": [
      "TopKV2(values=array([[8.0720758e-01, 1.8595436e-01, 6.7323642e-03, 7.4214870e-05,\n",
      "        1.9721025e-05],\n",
      "       [9.9252737e-01, 5.1462031e-03, 8.5535989e-04, 6.5632962e-04,\n",
      "        6.0077629e-04],\n",
      "       [9.9907076e-01, 5.6123041e-04, 1.0805218e-04, 8.4903229e-05,\n",
      "        8.3169070e-05],\n",
      "       [1.0000000e+00, 4.3200005e-25, 1.6685738e-25, 4.1099138e-31,\n",
      "        4.7965629e-34],\n",
      "       [9.9943346e-01, 5.1460380e-04, 5.0350605e-05, 1.5140322e-06,\n",
      "        1.2897931e-08]], dtype=float32), indices=array([[ 1,  2, 11,  6,  5],\n",
      "       [ 1, 33, 14,  5,  2],\n",
      "       [14, 34, 13, 25, 15],\n",
      "       [17,  9, 40, 34, 38],\n",
      "       [28, 20, 30, 11,  3]]))\n"
     ]
    }
   ],
   "source": [
    "### Print out the top five softmax probabilities for the predictions on the German traffic sign images found on the web. \n",
    "print(self_top_k_prob)"
   ]
  },
  {
   "cell_type": "markdown",
   "metadata": {},
   "source": [
    "##### Analysis of Top_5 matix\n",
    "The value of highest probability for \n",
    "For Image 1 is around 0.8, hence it is very 80% certain for this prediction. The second highest probability is around 18%. Remaining probabilities sums is in remaining 2 percent. \n",
    "\n",
    "For Image 2 is around 0.99, hence it is very 99% certain for this prediction. The second highest probability is very small, around 0.005 and futher probabilties are even less.\n",
    "\n",
    "For Image 3 is around 0.99, hence it is very 99% certain for this prediction. The second highest probability is very small, around 0.0005 and futher probabilties are even less.\n",
    "\n",
    "For Image 4 is  1, hence it is 100% certain for this prediction. The second highest probability and other probabilities are infinitesimal small.\n",
    "\n",
    "For Image 5 is around 0.99, hence it is very 99% certain for this prediction. The second highest probability is very small, around 0.0005 and futher probabilties are even less."
   ]
  },
  {
   "cell_type": "markdown",
   "metadata": {},
   "source": [
    "### Project Writeup\n",
    "\n",
    "Once you have completed the code implementation, document your results in a project writeup using this [template](https://github.com/udacity/CarND-Traffic-Sign-Classifier-Project/blob/master/writeup_template.md) as a guide. The writeup can be in a markdown or pdf file. "
   ]
  },
  {
   "cell_type": "markdown",
   "metadata": {},
   "source": [
    "> **Note**: Once you have completed all of the code implementations and successfully answered each question above, you may finalize your work by exporting the iPython Notebook as an HTML document. You can do this by using the menu above and navigating to  \\n\",\n",
    "    \"**File -> Download as -> HTML (.html)**. Include the finished document along with this notebook as your submission."
   ]
  },
  {
   "cell_type": "markdown",
   "metadata": {},
   "source": [
    "---\n",
    "\n",
    "## Step 4 (Optional): Visualize the Neural Network's State with Test Images\n",
    "\n",
    " This Section is not required to complete but acts as an additional excersise for understaning the output of a neural network's weights. While neural networks can be a great learning device they are often referred to as a black box. We can understand what the weights of a neural network look like better by plotting their feature maps. After successfully training your neural network you can see what it's feature maps look like by plotting the output of the network's weight layers in response to a test stimuli image. From these plotted feature maps, it's possible to see what characteristics of an image the network finds interesting. For a sign, maybe the inner network feature maps react with high activation to the sign's boundary outline or to the contrast in the sign's painted symbol.\n",
    "\n",
    " Provided for you below is the function code that allows you to get the visualization output of any tensorflow weight layer you want. The inputs to the function should be a stimuli image, one used during training or a new one you provided, and then the tensorflow variable name that represents the layer's state during the training process, for instance if you wanted to see what the [LeNet lab's](https://classroom.udacity.com/nanodegrees/nd013/parts/fbf77062-5703-404e-b60c-95b78b2f3f9e/modules/6df7ae49-c61c-4bb2-a23e-6527e69209ec/lessons/601ae704-1035-4287-8b11-e2c2716217ad/concepts/d4aca031-508f-4e0b-b493-e7b706120f81) feature maps looked like for it's second convolutional layer you could enter conv2 as the tf_activation variable.\n",
    "\n",
    "For an example of what feature map outputs look like, check out NVIDIA's results in their paper [End-to-End Deep Learning for Self-Driving Cars](https://devblogs.nvidia.com/parallelforall/deep-learning-self-driving-cars/) in the section Visualization of internal CNN State. NVIDIA was able to show that their network's inner weights had high activations to road boundary lines by comparing feature maps from an image with a clear path to one without. Try experimenting with a similar test to show that your trained network's weights are looking for interesting features, whether it's looking at differences in feature maps from images with or without a sign, or even what feature maps look like in a trained network vs a completely untrained one on the same sign image.\n",
    "\n",
    "<figure>\n",
    " <img src=\"visualize_cnn.png\" width=\"380\" alt=\"Combined Image\" />\n",
    " <figcaption>\n",
    " <p></p> \n",
    " <p style=\"text-align: center;\"> Your output should look something like this (above)</p> \n",
    " </figcaption>\n",
    "</figure>\n",
    " <p></p> \n"
   ]
  },
  {
   "cell_type": "code",
   "execution_count": null,
   "metadata": {},
   "outputs": [],
   "source": [
    "### Visualize your network's feature maps here.\n",
    "### Feel free to use as many code cells as needed.\n",
    "\n",
    "# image_input: the test image being fed into the network to produce the feature maps\n",
    "# tf_activation: should be a tf variable name used during your training procedure that represents the calculated state of a specific weight layer\n",
    "# activation_min/max: can be used to view the activation contrast in more detail, by default matplot sets min and max to the actual min and max values of the output\n",
    "# plt_num: used to plot out multiple different weight feature map sets on the same block, just extend the plt number for each new feature map entry\n",
    "\n",
    "def outputFeatureMap(image_input, tf_activation, activation_min=-1, activation_max=-1 ,plt_num=1):\n",
    "    # Here make sure to preprocess your image_input in a way your network expects\n",
    "    # with size, normalization, ect if needed\n",
    "    # image_input =\n",
    "    # Note: x should be the same name as your network's tensorflow data placeholder variable\n",
    "    # If you get an error tf_activation is not defined it may be having trouble accessing the variable from inside a function\n",
    "    activation = tf_activation.eval(session=sess,feed_dict={x : image_input})\n",
    "    featuremaps = activation.shape[3]\n",
    "    plt.figure(plt_num, figsize=(15,15))\n",
    "    for featuremap in range(featuremaps):\n",
    "        plt.subplot(6,8, featuremap+1) # sets the number of feature maps to show on each row and column\n",
    "        plt.title('FeatureMap ' + str(featuremap)) # displays the feature map number\n",
    "        if activation_min != -1 & activation_max != -1:\n",
    "            plt.imshow(activation[0,:,:, featuremap], interpolation=\"nearest\", vmin =activation_min, vmax=activation_max, cmap=\"gray\")\n",
    "        elif activation_max != -1:\n",
    "            plt.imshow(activation[0,:,:, featuremap], interpolation=\"nearest\", vmax=activation_max, cmap=\"gray\")\n",
    "        elif activation_min !=-1:\n",
    "            plt.imshow(activation[0,:,:, featuremap], interpolation=\"nearest\", vmin=activation_min, cmap=\"gray\")\n",
    "        else:\n",
    "            plt.imshow(activation[0,:,:, featuremap], interpolation=\"nearest\", cmap=\"gray\")"
   ]
  }
 ],
 "metadata": {
  "anaconda-cloud": {},
  "kernelspec": {
   "display_name": "Python [conda env:carnd-term1]",
   "language": "python",
   "name": "conda-env-carnd-term1-py"
  },
  "language_info": {
   "codemirror_mode": {
    "name": "ipython",
    "version": 3
   },
   "file_extension": ".py",
   "mimetype": "text/x-python",
   "name": "python",
   "nbconvert_exporter": "python",
   "pygments_lexer": "ipython3",
   "version": "3.5.2"
  },
  "widgets": {
   "state": {},
   "version": "1.1.2"
  }
 },
 "nbformat": 4,
 "nbformat_minor": 1
}
